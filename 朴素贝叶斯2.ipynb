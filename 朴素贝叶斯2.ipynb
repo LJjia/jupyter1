{
 "cells": [
  {
   "cell_type": "markdown",
   "metadata": {},
   "source": [
    "# 从个人广告中获取区域倾向\n",
    "\n",
    "根据从征婚广告信息获取信息判断两个城市的人们在广告用词上是否相同。\n",
    "\n",
    "从而判断出不同城市的人所关心的内容是否有所不同\n",
    "\n",
    "\n",
    "\n",
    "思考：其实朴素贝叶斯没有所说的训练算法这一项，它仅仅只是说数据量变大了，他从数据中提取的概率会更加准确，我感觉上的训练算法，则是随着数据集的增加或者训练次数的增多，算法的参数会发生变化。\n",
    "\n",
    "但这个变化在朴素贝叶斯中，并伴随着训练次数增多而发生改变。"
   ]
  },
  {
   "cell_type": "markdown",
   "metadata": {
    "collapsed": true
   },
   "source": [
    "# 本例子需要了解一下RSS源"
   ]
  },
  {
   "cell_type": "markdown",
   "metadata": {},
   "source": [
    "使用概率有时候比使用硬规则更加有效"
   ]
  },
  {
   "cell_type": "code",
   "execution_count": null,
   "metadata": {
    "collapsed": true
   },
   "outputs": [],
   "source": []
  }
 ],
 "metadata": {
  "kernelspec": {
   "display_name": "Python 3",
   "language": "python",
   "name": "python3"
  },
  "language_info": {
   "codemirror_mode": {
    "name": "ipython",
    "version": 3
   },
   "file_extension": ".py",
   "mimetype": "text/x-python",
   "name": "python",
   "nbconvert_exporter": "python",
   "pygments_lexer": "ipython3",
   "version": "3.6.2"
  }
 },
 "nbformat": 4,
 "nbformat_minor": 2
}
