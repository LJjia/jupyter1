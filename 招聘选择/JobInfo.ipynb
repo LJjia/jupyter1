{
 "cells": [
  {
   "attachments": {},
   "cell_type": "markdown",
   "metadata": {},
   "source": [
    "# 招聘信息\n",
    "中兴 9.11  19.00  翡翠湖校区综合楼301\n",
    "\n",
    "科大讯飞 9.11  19.00  屯溪路校区东风报告厅\n",
    "\n",
    "京东 9.12   14.00   屯溪路校区第二宣讲厅\n",
    "\n",
    "中科院苏州生物医学工程研究所  9.13 9.30  屯溪路校区第二宣讲厅\n",
    "\n",
    "海康威视  9.14 19.00   翡翠湖校区综合楼301\n",
    "\n",
    "软视软件  9.25 19.00   翡翠湖校区综合楼302\n",
    "\n"
   ]
  },
  {
   "cell_type": "markdown",
   "metadata": {},
   "source": [
    "# 其他比较感兴趣的企业\n",
    "小米\n",
    "\n",
    "大疆无人机\n",
    "\n",
    "百度"
   ]
  },
  {
   "cell_type": "code",
   "execution_count": null,
   "metadata": {
    "collapsed": true
   },
   "outputs": [],
   "source": []
  }
 ],
 "metadata": {
  "kernelspec": {
   "display_name": "Python 3",
   "language": "python",
   "name": "python3"
  },
  "language_info": {
   "codemirror_mode": {
    "name": "ipython",
    "version": 3
   },
   "file_extension": ".py",
   "mimetype": "text/x-python",
   "name": "python",
   "nbconvert_exporter": "python",
   "pygments_lexer": "ipython3",
   "version": "3.6.2"
  }
 },
 "nbformat": 4,
 "nbformat_minor": 2
}
