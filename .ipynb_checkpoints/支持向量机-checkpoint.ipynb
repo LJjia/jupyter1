{
 "cells": [
  {
   "cell_type": "markdown",
   "metadata": {},
   "source": [
    "# 支持向量就是指离分隔超平面最近的那些数据点\n",
    "\n",
    "说白了也就是距离分隔直线最近的哪些数据点\n",
    "\n",
    "支持向量这种方法就是如何寻找分隔数据集之间的最佳直线。\n",
    "\n",
    "所寻求的直线距离支持向量的距离最大，这样可以使得模型具有很好的健壮性"
   ]
  }
 ],
 "metadata": {
  "kernelspec": {
   "display_name": "Python 3",
   "language": "python",
   "name": "python3"
  },
  "language_info": {
   "codemirror_mode": {
    "name": "ipython",
    "version": 3
   },
   "file_extension": ".py",
   "mimetype": "text/x-python",
   "name": "python",
   "nbconvert_exporter": "python",
   "pygments_lexer": "ipython3",
   "version": "3.6.2"
  }
 },
 "nbformat": 4,
 "nbformat_minor": 2
}
