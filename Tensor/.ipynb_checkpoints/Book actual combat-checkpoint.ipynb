{
 "cells": [
  {
   "cell_type": "code",
   "execution_count": 10,
   "metadata": {},
   "outputs": [
    {
     "name": "stdout",
     "output_type": "stream",
     "text": [
      "Tensor(\"a_3:0\", shape=(2,), dtype=float32)\n"
     ]
    }
   ],
   "source": [
    "import tensorflow as tf\n",
    "a=tf.constant([1.0,2.0],name='a')\n",
    "b=tf.constant([2.0,3.0],name='b')\n",
    "result=a+b\n",
    "print(tf.get_default_graph)#打印当前默认计算图\n",
    "#不同计算图上的张量和运算不会共享"
   ]
  },
  {
   "cell_type": "code",
   "execution_count": 8,
   "metadata": {},
   "outputs": [
    {
     "name": "stdout",
     "output_type": "stream",
     "text": [
      "[0.]\n",
      "[1.]\n"
     ]
    }
   ],
   "source": [
    "#在不同计算图上定义和使用变量\n",
    "\n",
    "import tensorflow as tf\n",
    "\n",
    "g1=tf.Graph()\n",
    "with g1.as_default():\n",
    "    #在计算图g1中定义变量v，并赋初始值为0\n",
    "    v=tf.get_variable(\n",
    "        'v',shape=[1],initializer=tf.zeros_initializer)\n",
    "    #输入参数 变量名 类型 初始化为多少\n",
    "g2 =tf.Graph()\n",
    "with g2.as_default():\n",
    "    #在计算图g1中定义变量v，并赋初始值为0\n",
    "    v=tf.get_variable(\n",
    "    'v',shape=[1],initializer=tf.ones_initializer)\n",
    "    \n",
    "#在计算图g1中读取变量'v'的值9\n",
    "with tf.Session(graph=g1) as sess:\n",
    "    tf.global_variables_initializer().run()#运行 变量初始化\n",
    "    with tf.variable_scope('',reuse=True):\n",
    "        #图1中 v=[0] 应该输出[0]\n",
    "        print(sess.run(tf.get_variable('v')))\n",
    "    \n",
    "#在计算图g2中读取变量'v'的值\n",
    "with tf.Session(graph=g2) as sess:\n",
    "    tf.global_variables_initializer().run()#运行 变量初始化\n",
    "    with tf.variable_scope('',reuse=True):\n",
    "         #图1中 v=[1] 应该输出[1]\n",
    "        print(sess.run(tf.get_variable('v')))\n",
    "    "
   ]
  },
  {
   "cell_type": "code",
   "execution_count": 13,
   "metadata": {},
   "outputs": [
    {
     "name": "stdout",
     "output_type": "stream",
     "text": [
      "Tensor(\"a_9:0\", shape=(2,), dtype=float32)\n",
      "Tensor(\"add_9:0\", shape=(2,), dtype=float32)\n",
      "Tensor(\"myadd_6:0\", shape=(2,), dtype=float32)\n",
      "<function get_default_graph at 0x0000021D2A2A71E0>\n"
     ]
    }
   ],
   "source": [
    "import tensorflow as tf\n",
    "a=tf.constant([1,2],name='a',dtype=tf.float32)\n",
    "#这样可以强制使得a张量为float32类型\n",
    "b=tf.constant([2.0,3.0],name='b')\n",
    "result0=a+b\n",
    "result1=tf.add(a,b,name='myadd')\n",
    "print(a)\n",
    "print(result0)\n",
    "print(result1)\n",
    "print(tf.get_default_graph)#打印当前默认计算图\n"
   ]
  },
  {
   "cell_type": "markdown",
   "metadata": {},
   "source": [
    "张量可以简单理解为多维数组\n",
    "\n",
    "复杂的是张量（节点）不进行运算，不真正保存数据，只存储运算方式（如何得到这些数据的运算过程）"
   ]
  },
  {
   "cell_type": "code",
   "execution_count": 15,
   "metadata": {},
   "outputs": [
    {
     "name": "stdout",
     "output_type": "stream",
     "text": [
      "[3. 5.]\n",
      "[3. 5.]\n"
     ]
    }
   ],
   "source": [
    "#会话 两种方式\n",
    "#使用方式1 需要开启和关闭会话\n",
    "'''\n",
    "sess=tf.Session()\n",
    "sess.run()\n",
    "sess.close()\n",
    "'''\n",
    "\n",
    "#使用上下文管理器 with方法 和打开文件类似\n",
    "'''\n",
    "with tf.Session() as sess:\n",
    "    #所有的计算内容都需要包含在with中\n",
    "    sess.run()\n",
    "'''\n",
    "#注册会话时需要将生成的会话注册为默认会话\n",
    "import tensorflow as tf\n",
    "a=tf.constant([1,2],name='a',dtype=tf.float32)\n",
    "#这样可以强制使得a张量为float32类型\n",
    "b=tf.constant([2.0,3.0],name='b')\n",
    "result0=a+b\n",
    "result1=tf.add(a,b,name='myadd')\n",
    "with tf.Session() as sess:\n",
    "    #所有的计算内容都需要包含在with中\n",
    "    sess.as_default()\n",
    "    print(result.eval())#默认会话制定之后使用 eval获得张量的取值\n",
    "    \n",
    "#或者一种更简单的方法\n",
    "sess=tf.InteractiveSession()#自动将生成的会话注册为默认会话\n",
    "print(result.eval())\n",
    "sess.close()"
   ]
  },
  {
   "cell_type": "code",
   "execution_count": null,
   "metadata": {
    "collapsed": true
   },
   "outputs": [],
   "source": []
  }
 ],
 "metadata": {
  "kernelspec": {
   "display_name": "Python 3",
   "language": "python",
   "name": "python3"
  },
  "language_info": {
   "codemirror_mode": {
    "name": "ipython",
    "version": 3
   },
   "file_extension": ".py",
   "mimetype": "text/x-python",
   "name": "python",
   "nbconvert_exporter": "python",
   "pygments_lexer": "ipython3",
   "version": "3.6.2"
  }
 },
 "nbformat": 4,
 "nbformat_minor": 2
}
