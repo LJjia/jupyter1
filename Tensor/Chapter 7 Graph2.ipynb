{
 "cells": [
  {
   "cell_type": "code",
   "execution_count": 2,
   "metadata": {},
   "outputs": [],
   "source": [
    "#图像处理完整样例\n",
    "import tensorflow as tf\n",
    "import numpy as np\n",
    "import matplotlib.pyplot as plt\n",
    "#调整图像亮度、对比度、色饱和度 调整顺序不同会影响最后得到的结果\n",
    "def distort_color(image,color_ordering=0):\n",
    "    #参数 color_ordering参数代表的是各种操作的顺序\n",
    "    if color_ordering==0:\n",
    "        image=tf.image.random_brightness(image,max_delta=32./255.)#亮度\n",
    "        image=tf.image.random_saturation(image,lower=0.5,upper=1.5)#饱和度\n",
    "        image=tf.image.random_hue(image,max_delta=0.2)\n",
    "        image=tf.image.random_contrast(image,lower=0.5,upper=1.5)#对比度"
   ]
  },
  {
   "cell_type": "code",
   "execution_count": null,
   "metadata": {
    "collapsed": true
   },
   "outputs": [],
   "source": []
  }
 ],
 "metadata": {
  "kernelspec": {
   "display_name": "Python 3",
   "language": "python",
   "name": "python3"
  },
  "language_info": {
   "codemirror_mode": {
    "name": "ipython",
    "version": 3
   },
   "file_extension": ".py",
   "mimetype": "text/x-python",
   "name": "python",
   "nbconvert_exporter": "python",
   "pygments_lexer": "ipython3",
   "version": "3.6.2"
  }
 },
 "nbformat": 4,
 "nbformat_minor": 2
}
