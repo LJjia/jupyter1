{
 "cells": [
  {
   "cell_type": "code",
   "execution_count": 2,
   "metadata": {},
   "outputs": [
    {
     "name": "stdout",
     "output_type": "stream",
     "text": [
      "before_activation [ 0.6  0.5]\n",
      "state [ 0.53704957  0.46211716]\n",
      "output [ 1.56128388]\n",
      "before_activation [ 1.2923401   1.39225678]\n",
      "state [ 0.85973818  0.88366641]\n",
      "output [ 2.72707101]\n"
     ]
    }
   ],
   "source": [
    "#简单实现循环神经网络前向传播过程\n",
    "import numpy as np\n",
    "X=[1,2]#X的两个值分别代表t1时刻和t2时刻的输入\n",
    "state=[0.0,0.0]#state则是状态的初始值\n",
    "#分开定义不同输入部分的权重以方便操作\n",
    "w_cell_state=np.asarray([[0.1,0.2],[0.3,0.4]])#上一个状态对应权重 对应的维度（2行）\n",
    "w_cell_input=np.asarray([0.5,0.6])#当前状态对应权重（1行）\n",
    "b_cell=np.asarray([0.1,-0.1])#偏置 循环层\n",
    "\n",
    "#定义用于输出的全连接层参数\n",
    "w_output=np.asarray([[1.0],[2.0]])\n",
    "b_output=0.1#全连接层偏执\n",
    "#按时间顺序执行循环神经网络的向前传播过程\n",
    "for i in range(len(X)):\n",
    "    #计算全连接神经网络\n",
    "    before_activation=np.dot(state,w_cell_state)+X[i]*w_cell_input+b_cell#注意这里一个是矩阵相乘，另一个是向量相乘，\n",
    "    state=np.tanh(before_activation)#对两个值分别采用激活函数后得到第二个状态\n",
    "    #根据当前时刻状态计算最终输出\n",
    "    final_output=np.dot(state,w_output)+b_output\n",
    "    #输出每个时刻的信息\n",
    "    print('before_activation',before_activation)\n",
    "    print('state',state)\n",
    "    print('output',final_output)"
   ]
  },
  {
   "cell_type": "code",
   "execution_count": 3,
   "metadata": {
    "collapsed": true
   },
   "outputs": [],
   "source": [
    "import tensorflow as tf\n",
    "#tensorflow实现LSTM结构\n",
    "#定义一个LSTM结构\n",
    "lstm=tf.nn.rnn_cell.BasicLSTMCell(lstm_hidden_size)\n",
    "#lstm初始化为全0数组\n"
   ]
  },
  {
   "cell_type": "code",
   "execution_count": null,
   "metadata": {
    "collapsed": true
   },
   "outputs": [],
   "source": []
  }
 ],
 "metadata": {
  "kernelspec": {
   "display_name": "Python 3",
   "language": "python",
   "name": "python3"
  },
  "language_info": {
   "codemirror_mode": {
    "name": "ipython",
    "version": 3
   },
   "file_extension": ".py",
   "mimetype": "text/x-python",
   "name": "python",
   "nbconvert_exporter": "python",
   "pygments_lexer": "ipython3",
   "version": "3.6.3"
  }
 },
 "nbformat": 4,
 "nbformat_minor": 2
}
