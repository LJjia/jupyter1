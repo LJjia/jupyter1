{
 "cells": [
  {
   "cell_type": "code",
   "execution_count": 7,
   "metadata": {},
   "outputs": [
    {
     "name": "stdout",
     "output_type": "stream",
     "text": [
      "[[  1.00000000e+00  -1.38777878e-17   2.77555756e-17  -2.42861287e-17]\n",
      " [ -1.38777878e-17   1.00000000e+00   0.00000000e+00  -1.52655666e-16]\n",
      " [  0.00000000e+00  -1.11022302e-16   1.00000000e+00  -1.11022302e-16]\n",
      " [  1.11022302e-16   0.00000000e+00   0.00000000e+00   1.00000000e+00]]\n"
     ]
    }
   ],
   "source": [
    "import numpy as np\n",
    "np.random.rand(4,4)\n",
    "randMat=np.mat(np.random.rand(4,4))\n",
    "#矩阵取.I操作可取逆\n",
    "print(randMat*randMat.I)"
   ]
  },
  {
   "cell_type": "code",
   "execution_count": null,
   "metadata": {
    "collapsed": true
   },
   "outputs": [],
   "source": []
  }
 ],
 "metadata": {
  "kernelspec": {
   "display_name": "Python 3",
   "language": "python",
   "name": "python3"
  },
  "language_info": {
   "codemirror_mode": {
    "name": "ipython",
    "version": 3
   },
   "file_extension": ".py",
   "mimetype": "text/x-python",
   "name": "python",
   "nbconvert_exporter": "python",
   "pygments_lexer": "ipython3",
   "version": "3.6.3"
  }
 },
 "nbformat": 4,
 "nbformat_minor": 2
}
