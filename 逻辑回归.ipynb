{
 "cells": [
  {
   "cell_type": "markdown",
   "metadata": {
    "collapsed": true
   },
   "source": [
    "# 回归 源于 最佳拟合\n",
    "\n",
    "表示要找到最佳拟合数据集"
   ]
  },
  {
   "cell_type": "markdown",
   "metadata": {
    "collapsed": true
   },
   "source": [
    "经典的阶跃函数由于其在0处的特殊性\n",
    "会非常难以处理，因此使用sigmoid函数代替阶跃函数"
   ]
  },
  {
   "cell_type": "code",
   "execution_count": 9,
   "metadata": {},
   "outputs": [],
   "source": [
    "#梯度上升算法  类似于梯度下降算法\n",
    "\n",
    "from numpy import *\n",
    "\n",
    "laptop_path_test='D:/PythonCode/Machine/machinelearninginaction/Ch05/'\n",
    "\n",
    "def loadDataSet():\n",
    "    dataMat=[];labelMat=[]\n",
    "    fr=open(laptop_path_test+'testSet.txt')\n",
    "    for line in fr.readlines():\n",
    "        lineArr=line.strip().split()\n",
    "        dataMat.append([1.0,float(lineArr[0]),float(lineArr[1])])\n",
    "        #一共x0，x1，x2三个值输入数据列表中 ，x0默认为1.0\n",
    "        labelMat.append(int(lineArr[2]))#标签\n",
    "    return dataMat,labelMat\n",
    "\n",
    "def sigmoid(inX):\n",
    "    return 1.0/(1+exp(-inX))\n",
    "\n",
    "#梯度上升算法\n",
    "def gradAscent(dataMatIn,classLabels):\n",
    "    #转换为Numpy矩阵数据类型\n",
    "    dataMatrix=mat(dataMatIn)#100*3\n",
    "    lableMat=mat(classLabels).transpose()#这里是转置的意思\n",
    "    m,n=shape(dataMatrix)\n",
    "    print('m',m,'n',n)\n",
    "    alpha=0.001\n",
    "    maxCycles=500#迭代次数\n",
    "    weights=ones((n,1))\n",
    "    #矩阵相乘\n",
    "    for  k  in range(maxCycles):\n",
    "        h=sigmoid(dataMatrix*weights)\n",
    "        error=(lableMat-h)#error 为100*1矩阵\n",
    "        if k==1:\n",
    "            print(error)\n",
    "        weights=weights+alpha*dataMatrix.transpose()*error\n",
    "    return weights"
   ]
  },
  {
   "cell_type": "code",
   "execution_count": 10,
   "metadata": {},
   "outputs": [
    {
     "name": "stdout",
     "output_type": "stream",
     "text": [
      "m 100 n 3\n",
      "[[-9.99593756e-01]\n",
      " [ 1.33712671e-01]\n",
      " [-9.68232381e-01]\n",
      " [-9.59164382e-01]\n",
      " [-9.98862180e-01]\n",
      " [ 8.04858960e-03]\n",
      " [-9.99606869e-01]\n",
      " [ 1.30270875e-01]\n",
      " [-9.97945631e-01]\n",
      " [-9.97598129e-01]\n",
      " [ 5.60475458e-03]\n",
      " [-9.99836910e-01]\n",
      " [ 2.49254953e-02]\n",
      " [-9.74781773e-01]\n",
      " [ 3.86483117e-02]\n",
      " [ 6.56585191e-02]\n",
      " [ 1.90094259e-02]\n",
      " [ 9.60658897e-02]\n",
      " [ 2.71526370e-01]\n",
      " [ 8.40551332e-03]\n",
      " [ 1.10709405e-02]\n",
      " [ 7.25730391e-01]\n",
      " [-9.97867652e-01]\n",
      " [ 5.49084951e-01]\n",
      " [ 4.55008729e-01]\n",
      " [-9.98938150e-01]\n",
      " [-9.90851537e-01]\n",
      " [ 9.67893094e-01]\n",
      " [ 4.76595412e-02]\n",
      " [-9.99135780e-01]\n",
      " [ 7.36595132e-02]\n",
      " [ 3.82921491e-03]\n",
      " [-9.99600685e-01]\n",
      " [ 8.22873864e-01]\n",
      " [ 1.03785901e-02]\n",
      " [-9.97251891e-01]\n",
      " [-9.97485063e-01]\n",
      " [-9.77377793e-01]\n",
      " [-9.95480462e-01]\n",
      " [-9.95135005e-01]\n",
      " [ 1.05687597e-01]\n",
      " [ 6.90225018e-03]\n",
      " [-9.95481173e-01]\n",
      " [ 8.59813015e-02]\n",
      " [ 4.37477824e-02]\n",
      " [-9.92593750e-01]\n",
      " [ 6.82642129e-01]\n",
      " [ 1.66150724e-02]\n",
      " [-9.96537987e-01]\n",
      " [-9.98904995e-01]\n",
      " [-9.95521427e-01]\n",
      " [-9.96515608e-01]\n",
      " [-9.89092805e-01]\n",
      " [-9.99792169e-01]\n",
      " [ 7.39123963e-03]\n",
      " [ 1.21359455e-02]\n",
      " [-9.97153018e-01]\n",
      " [ 1.51961817e-03]\n",
      " [-9.96682430e-01]\n",
      " [ 5.09873058e-02]\n",
      " [ 1.04557953e-01]\n",
      " [ 8.29517679e-02]\n",
      " [-9.95450021e-01]\n",
      " [-9.99384014e-01]\n",
      " [-9.99322874e-01]\n",
      " [ 6.33942091e-01]\n",
      " [ 1.34035325e-03]\n",
      " [-9.99631540e-01]\n",
      " [-9.99331541e-01]\n",
      " [-9.96202486e-01]\n",
      " [-9.98373610e-01]\n",
      " [ 5.30529595e-01]\n",
      " [-9.99491292e-01]\n",
      " [ 9.77457129e-02]\n",
      " [-9.98168450e-01]\n",
      " [-9.96525405e-01]\n",
      " [ 6.63599669e-01]\n",
      " [ 3.48553660e-02]\n",
      " [ 4.33920125e-03]\n",
      " [ 9.42227002e-02]\n",
      " [-9.19782882e-01]\n",
      " [ 8.38654760e-01]\n",
      " [-9.99580050e-01]\n",
      " [ 3.27216204e-04]\n",
      " [ 3.30187730e-01]\n",
      " [ 6.68983208e-01]\n",
      " [ 1.18062723e-01]\n",
      " [-9.99797810e-01]\n",
      " [ 4.69577376e-03]\n",
      " [ 2.55409966e-01]\n",
      " [ 3.31329972e-01]\n",
      " [-9.99871071e-01]\n",
      " [-9.97310719e-01]\n",
      " [ 1.76842329e-01]\n",
      " [ 2.90819020e-01]\n",
      " [ 5.32357216e-02]\n",
      " [-9.99026378e-01]\n",
      " [ 7.49863385e-01]\n",
      " [-9.98983046e-01]\n",
      " [-9.99790797e-01]]\n"
     ]
    },
    {
     "data": {
      "text/plain": [
       "matrix([[ 4.12414349],\n",
       "        [ 0.48007329],\n",
       "        [-0.6168482 ]])"
      ]
     },
     "execution_count": 10,
     "metadata": {},
     "output_type": "execute_result"
    }
   ],
   "source": [
    "dataArr,labelMat=loadDataSet()\n",
    "gradAscent(dataArr,labelMat)"
   ]
  },
  {
   "cell_type": "code",
   "execution_count": null,
   "metadata": {
    "collapsed": true
   },
   "outputs": [],
   "source": []
  }
 ],
 "metadata": {
  "kernelspec": {
   "display_name": "Python 3",
   "language": "python",
   "name": "python3"
  },
  "language_info": {
   "codemirror_mode": {
    "name": "ipython",
    "version": 3
   },
   "file_extension": ".py",
   "mimetype": "text/x-python",
   "name": "python",
   "nbconvert_exporter": "python",
   "pygments_lexer": "ipython3",
   "version": "3.6.2"
  }
 },
 "nbformat": 4,
 "nbformat_minor": 2
}
